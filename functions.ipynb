{
  "nbformat": 4,
  "nbformat_minor": 0,
  "metadata": {
    "colab": {
      "provenance": []
    },
    "kernelspec": {
      "name": "python3",
      "display_name": "Python 3"
    },
    "language_info": {
      "name": "python"
    }
  },
  "cells": [
    {
      "cell_type": "markdown",
      "source": [
        "#Functions"
      ],
      "metadata": {
        "id": "jZD7I24zA8gR"
      }
    },
    {
      "cell_type": "code",
      "execution_count": null,
      "metadata": {
        "id": "sClBRHye_lP8"
      },
      "outputs": [],
      "source": [
        "## 1. What is the difference between a function and a method in Python?\n",
        "\n",
        "In Python, a **function** is a block of reusable code that performs a specific task. Functions are defined outside of a class. A **method** is also a block of reusable code, but it's specifically associated with an object and is defined inside a class. Methods are called on an instance of the class (e.g., `object.method()`), and they can access and modify the object's data.\n",
        "\n",
        "-----\n",
        "\n",
        "## 2. Explain the concept of function arguments and parameters in Python.\n",
        "\n",
        "**Parameters** are the names specified in a function's definition that act as placeholders for the values that will be passed into the function. **Arguments** are the actual values passed to the function when it is called. Think of parameters as a blueprint and arguments as the actual materials used to build something.\n",
        "\n",
        "-----\n",
        "\n",
        "## 3. What are the different ways to define and call a function in Python?\n",
        "\n",
        "To **define** a function in Python, you use the `def` keyword, followed by the function name, parentheses `()`, and a colon `:`. The code block for the function is indented.\n",
        "\n",
        "```python\n",
        "# Function definition\n",
        "def greet(name):\n",
        "    print(f\"Hello, {name}!\")\n",
        "```\n",
        "\n",
        "To **call** a function, you simply use the function's name followed by parentheses containing any required arguments.\n",
        "\n",
        "```python\n",
        "# Function call\n",
        "greet(\"Alice\")\n",
        "```\n",
        "\n",
        "-----\n",
        "\n",
        "## 4. What is the purpose of the `return` statement in a Python function?\n",
        "\n",
        "The `return` statement in a Python function is used to send a value back to the caller. When a `return` statement is executed, the function immediately terminates, and the returned value can be stored in a variable or used in an expression. If a function doesn't have a `return` statement, it implicitly returns `None`.\n",
        "\n",
        "-----\n",
        "\n",
        "## 5. What are iterators in Python and how do they differ from iterables?\n",
        "\n",
        "An **iterable** is an object that can be looped over, such as a list, tuple, or string. It's an object that can return an iterator. An **iterator** is an object that represents a stream of data and has a `__next__()` method, which returns the next item in the sequence. You can get an iterator from an iterable by using the `iter()` function. An iterator keeps track of its current position.\n",
        "\n",
        "-----\n",
        "\n",
        "## 6. Explain the concept of generators in Python and how they are defined.\n",
        "\n",
        "A **generator** is a special type of function in Python that returns an iterator. Instead of using `return` to return a value and terminate, generators use the `yield` keyword to produce a sequence of values one at a time.  Each time `yield` is encountered, the generator's state is saved, and the yielded value is returned. The next time the generator is called, it resumes execution from where it left off. This makes generators memory-efficient, especially for large datasets.\n",
        "\n",
        "```python\n",
        "# A generator function\n",
        "def countdown(n):\n",
        "    while n > 0:\n",
        "        yield n\n",
        "        n -= 1\n",
        "\n",
        "# Using the generator\n",
        "for number in countdown(5):\n",
        "    print(number)\n",
        "```\n",
        "\n",
        "-----\n",
        "\n",
        "## 7. What are the advantages of using generators over regular functions?\n",
        "The main advantage of using generators over regular functions is **memory efficiency**. A regular function that creates a list of all items in a sequence will store the entire list in memory. A generator, however, produces items one by one, only holding one item in memory at a time. This is particularly useful when dealing with large datasets where storing everything in memory would be impractical or impossible.\n",
        "\n",
        "-----\n",
        "\n",
        "## 8. What is a lambda function in Python and when is it typically used?\n",
        "\n",
        "A **lambda function** is a small, anonymous function defined with the `lambda` keyword. It can take any number of arguments but can only have one expression. The expression's result is automatically returned. Lambda functions are typically used for short, simple operations where defining a full function with `def` would be overkill, often as arguments to higher-order functions like `map()`, `filter()`, and `sorted()`.\n",
        "\n",
        "```python\n",
        "# Example of a lambda function\n",
        "add = lambda x, y: x + y\n",
        "print(add(5, 3))  # Output: 8\n",
        "```\n",
        "\n",
        "-----\n",
        "\n",
        "## 9. Explain the purpose and usage of the `map()` function in Python.\n",
        "The `map()` function applies a given function to each item of an iterable and returns a **map object** (which is an iterator) containing the results. It's a convenient way to perform the same operation on all elements of a collection without writing an explicit `for` loop.\n",
        "\n",
        "```python\n",
        "numbers = [1, 2, 3, 4]\n",
        "squared = list(map(lambda x: x**2, numbers))\n",
        "print(squared)  # Output: [1, 4, 9, 16]\n",
        "```\n",
        "\n",
        "-----\n",
        "\n",
        "## 10. What is the difference between `map()`, `reduce()`, and `filter()` functions in Python?\n",
        "\n",
        "These are all higher-order functions that work with iterables:\n",
        "\n",
        "  * **`map()`** transforms each item in an iterable by applying a function to it. It returns a new iterable of the same length with the transformed items.\n",
        "  * **`filter()`** constructs an iterator from elements of an iterable for which a function returns true. It returns a new iterable containing only the items that satisfy the given condition.\n",
        "  * **`reduce()`** (from the `functools` module) applies a function of two arguments cumulatively to the items of an iterable, from left to right, to reduce the iterable to a single value. It's often used for operations like summing, multiplying, or finding the maximum value.\n",
        "\n",
        "-----\n",
        "\n",
        "##\n",
        "11. Using pen & Paper write the internal mechanism for sum operation using  reduce function on this given\n",
        "\n",
        "Using `reduce()` on the list `[47, 11, 42, 13]` with a sum operation works as follows:\n",
        "\n",
        "1.  The function starts with the first two elements, `47` and `11`.\n",
        "2.  It applies the sum operation: `47 + 11 = 58`.\n",
        "3.  The result, `58`, is then combined with the next element, `42`: `58 + 42 = 100`.\n",
        "4.  This new result, `100`, is combined with the final element, `13`: `100 + 13 = 113`.\n",
        "5.  The final result, `113`, is returned.\n",
        "\n",
        "for sum operation]"
      ]
    },
    {
      "cell_type": "code",
      "source": [
        "##1. Write a Python function that takes a list of numbers as input and returns the sum of all even numbers in the list.\n",
        "\n",
        "\n",
        "def sum_of_evens(numbers):\n",
        "    total = 0\n",
        "    for number in numbers:\n",
        "        if number % 2 == 0:\n",
        "            total += number\n",
        "    return total\n",
        "    total = 0\n",
        "    for number in numbers:\n",
        "        if number % 2 == 0:\n",
        "            total += number\n",
        "    return total\n",
        "\n",
        "# Example:\n",
        "my_list = [1, 2, 3, 4, 5, 6, 7, 8, 9, 10]\n",
        "print(f\"The sum of even numbers is: {sum_of_evens(my_list)}\")"
      ],
      "metadata": {
        "colab": {
          "base_uri": "https://localhost:8080/"
        },
        "id": "XD_wsB2ZDSiW",
        "outputId": "81fb0e34-7004-48be-e9f5-a72312fcc5ad"
      },
      "execution_count": 3,
      "outputs": [
        {
          "output_type": "stream",
          "name": "stdout",
          "text": [
            "The sum of even numbers is: 30\n"
          ]
        }
      ]
    },
    {
      "cell_type": "code",
      "source": [
        "## 2. Create a Python function that accepts a string and returns the reverse of that string.\n",
        "def reverse_string(s):\n",
        "    reversed_string = \"\"\n",
        "    for char in s:\n",
        "        reversed_string = char + reversed_string\n",
        "    return reversed_string\n",
        "    return s[::-1]\n",
        "\n",
        "# Example:\n",
        "my_string = \"Hello, World!\"\n",
        "print(f\"The reversed string is: {reverse_string(my_string)}\")\n"
      ],
      "metadata": {
        "colab": {
          "base_uri": "https://localhost:8080/"
        },
        "id": "iPykORUfEKuK",
        "outputId": "a6fd17a3-4e9b-447d-fedc-ad99bd397f2a"
      },
      "execution_count": 4,
      "outputs": [
        {
          "output_type": "stream",
          "name": "stdout",
          "text": [
            "The reversed string is: !dlroW ,olleH\n"
          ]
        }
      ]
    },
    {
      "cell_type": "code",
      "source": [
        "##3. Implement a Python function that takes a list of integers and returns a new list containing the squares of each number.\n",
        "\n",
        "\n",
        "def square_numbers(numbers):\n",
        "\n",
        "   return [number ** 2 for number in numbers]\n",
        "\n",
        "# Example:\n",
        "my_numbers = [1, 2, 3, 4, 5]\n",
        "print(f\"The list of squares is: {square_numbers(my_numbers)}\")"
      ],
      "metadata": {
        "colab": {
          "base_uri": "https://localhost:8080/"
        },
        "id": "PcPtp2VwEb1R",
        "outputId": "43c36182-5146-496a-be4a-8683f5f99876"
      },
      "execution_count": 6,
      "outputs": [
        {
          "output_type": "stream",
          "name": "stdout",
          "text": [
            "The list of squares is: [1, 4, 9, 16, 25]\n"
          ]
        }
      ]
    },
    {
      "cell_type": "code",
      "source": [
        "##4. Write a Python function that checks if a given number is prime or not from 1 to 200.\n",
        "\n",
        "def is_prime(n):\n",
        "    if n <= 1:\n",
        "        return False\n",
        "    for i in range(2, int(n**0.5) + 1):\n",
        "        if n % i == 0:\n",
        "            return False\n",
        "    return True\n",
        "\n",
        "# Example:\n",
        "for number in range(1, 201):\n",
        "    if is_prime(number):\n",
        "        print(number, end=\" \")"
      ],
      "metadata": {
        "colab": {
          "base_uri": "https://localhost:8080/"
        },
        "id": "nbZYzZ_8E0mp",
        "outputId": "9c5214a7-7ee9-4d08-ffcd-0464470aa081"
      },
      "execution_count": 7,
      "outputs": [
        {
          "output_type": "stream",
          "name": "stdout",
          "text": [
            "2 3 5 7 11 13 17 19 23 29 31 37 41 43 47 53 59 61 67 71 73 79 83 89 97 101 103 107 109 113 127 131 137 139 149 151 157 163 167 173 179 181 191 193 197 199 "
          ]
        }
      ]
    },
    {
      "cell_type": "code",
      "source": [
        "## 5. Create an iterator class in Python that generates the Fibonacci sequence up to a specified number of terms.\n",
        "\n",
        "class Fibonacci:\n",
        "    def __init__(self, n):\n",
        "        self.n = n\n",
        "        self.a, self.b = 0, 1\n",
        "        self.count = 0\n",
        "\n",
        "    def __iter__(self):\n",
        "        return self\n",
        "\n",
        "    def __next__(self):\n",
        "        if self.count < self.n:\n",
        "            result = self.a\n",
        "            self.a, self.b = self.b, self.a + self.b\n",
        "            self.count += 1\n",
        "            return result\n",
        "        else:\n",
        "            raise StopIteration\n",
        "\n",
        "# Example:\n",
        "fib_sequence = Fibonacci(10)\n",
        "print(\"\\nFibonacci sequence:\")\n",
        "for num in fib_sequence:\n",
        "    print(num, end=\" \")"
      ],
      "metadata": {
        "colab": {
          "base_uri": "https://localhost:8080/"
        },
        "id": "1nQWBhFqFJni",
        "outputId": "f8343848-56c2-4260-f2d5-6e21b6a33254"
      },
      "execution_count": 8,
      "outputs": [
        {
          "output_type": "stream",
          "name": "stdout",
          "text": [
            "\n",
            "Fibonacci sequence:\n",
            "0 1 1 2 3 5 8 13 21 34 "
          ]
        }
      ]
    },
    {
      "cell_type": "code",
      "source": [
        "## 6. Write a generator function in Python that yields the powers of 2 up to a given exponent.\n",
        "\n",
        "def powers_of_two(exponent):\n",
        "    for i in range(exponent + 1):\n",
        "        yield 2 ** i\n",
        "\n",
        "# Example:\n",
        "print(\"\\nPowers of 2:\")\n",
        "for power in powers_of_two(5):\n",
        "    print(power, end=\" \")"
      ],
      "metadata": {
        "colab": {
          "base_uri": "https://localhost:8080/"
        },
        "id": "2boocLeEFcIv",
        "outputId": "fa17500c-7650-4bfc-d1a0-e42c97803a27"
      },
      "execution_count": 9,
      "outputs": [
        {
          "output_type": "stream",
          "name": "stdout",
          "text": [
            "\n",
            "Powers of 2:\n",
            "1 2 4 8 16 32 "
          ]
        }
      ]
    },
    {
      "cell_type": "code",
      "source": [
        "## 7. Implement a generator function that reads a file line by line and yields each line as a string.\n",
        "\n",
        "def read_file_line_by_line(file_path):\n",
        "    with open(file_path, 'r') as file:\n",
        "        for line in file:\n",
        "            yield line.strip()\n",
        "\n",
        "# Example usage:\n",
        "with open(\"sample.txt\", \"w\") as f:\n",
        "    f.write(\"Line 1\\n\")\n",
        "    f.write(\"Line 2\\n\")\n",
        "    f.write(\"Line 3\\n\")\n",
        "\n",
        "print(\"\\nReading file line by line:\")\n",
        "for line in read_file_line_by_line(\"sample.txt\"):\n",
        "    print(line)"
      ],
      "metadata": {
        "colab": {
          "base_uri": "https://localhost:8080/"
        },
        "id": "KeDdbPq3FrXF",
        "outputId": "933e98f3-9773-4b13-ee5b-b7d477dc0676"
      },
      "execution_count": 10,
      "outputs": [
        {
          "output_type": "stream",
          "name": "stdout",
          "text": [
            "\n",
            "Reading file line by line:\n",
            "Line 1\n",
            "Line 2\n",
            "Line 3\n"
          ]
        }
      ]
    },
    {
      "cell_type": "code",
      "source": [
        "##8. Use a lambda function in Python to sort a list of tuples based on the second element of each tuple.\n",
        "\n",
        "data = [('apple', 3), ('banana', 1), ('cherry', 5), ('date', 2)]\n",
        "sorted_data = sorted(data, key=lambda x: x[1])\n",
        "\n",
        "print(f\"Sorted list of tuples: {sorted_data}\")"
      ],
      "metadata": {
        "colab": {
          "base_uri": "https://localhost:8080/"
        },
        "id": "3jQP-0-zGC7Z",
        "outputId": "a9e55c4d-4043-465c-ce7f-a1eb51a6fb85"
      },
      "execution_count": 11,
      "outputs": [
        {
          "output_type": "stream",
          "name": "stdout",
          "text": [
            "Sorted list of tuples: [('banana', 1), ('date', 2), ('apple', 3), ('cherry', 5)]\n"
          ]
        }
      ]
    },
    {
      "cell_type": "code",
      "source": [
        "##9. Write a Python program that uses `map()` to convert a list of temperatures from Celsius to Fahrenheit.\n",
        "celsius_temperatures = [0, 10, 20, 30, 40]\n",
        "fahrenheit_temperatures = list(map(lambda c: (9/5) * c + 32, celsius_temperatures))\n",
        "\n",
        "print(f\"Celsius temperatures: {celsius_temperatures}\")\n",
        "print(f\"Fahrenheit temperatures: {fahrenheit_temperatures}\")"
      ],
      "metadata": {
        "colab": {
          "base_uri": "https://localhost:8080/"
        },
        "id": "UllPYwVSGReX",
        "outputId": "0ab1c93c-1578-447f-d0a1-b569bd90ff04"
      },
      "execution_count": 12,
      "outputs": [
        {
          "output_type": "stream",
          "name": "stdout",
          "text": [
            "Celsius temperatures: [0, 10, 20, 30, 40]\n",
            "Fahrenheit temperatures: [32.0, 50.0, 68.0, 86.0, 104.0]\n"
          ]
        }
      ]
    },
    {
      "cell_type": "code",
      "source": [
        "## 10. Create a Python program that uses `filter()` to remove all the vowels from a given string.\n",
        "text = \"Hello, World!\"\n",
        "vowels = \"aeiouAEIOU\"\n",
        "filtered_text = \"\".join(list(filter(lambda char: char not in vowels, text)))\n",
        "\n",
        "print(f\"Original string: {text}\")\n",
        "print(f\"String without vowels: {filtered_text}\")"
      ],
      "metadata": {
        "colab": {
          "base_uri": "https://localhost:8080/"
        },
        "id": "jbnXRIpzGcVl",
        "outputId": "d896fdd1-f201-4e47-f9f7-b5448fa4d86f"
      },
      "execution_count": 13,
      "outputs": [
        {
          "output_type": "stream",
          "name": "stdout",
          "text": [
            "Original string: Hello, World!\n",
            "String without vowels: Hll, Wrld!\n"
          ]
        }
      ]
    },
    {
      "cell_type": "code",
      "source": [
        "## 11) Imagine an accounting routine used in a book shop. It works on a list with sublists, which look like this: Write a Python program, which returns a list with 2-tuples. Each tuple consists of the order number and the\n",
        "#product of the price per item and the quantity. The product should be increased by 10,- € if the value of the\n",
        "#order is smaller than 100,00 €.\n",
        " #Write a Python program using lambda and map\n",
        "orders = [\n",
        "    [12345, 12.50, 10],\n",
        "    [56789, 5.00, 20],\n",
        "    [98765, 100.00, 1],\n",
        "    [45678, 9.99, 5],\n",
        "    [11223, 20.00, 3]\n",
        "]\n",
        "\n",
        "def calculate_order_value(order):\n",
        "    order_number = order[0]\n",
        "    price = order[1]\n",
        "    quantity = order[2]\n",
        "    total_value = price * quantity\n",
        "    if total_value < 100:\n",
        "        total_value += 10\n",
        "    return (order_number, total_value)\n",
        "\n",
        "result = list(map(lambda order: calculate_order_value(order), orders))\n",
        "\n",
        "print(f\"Original order list: {orders}\")\n",
        "print(f\"Processed order list: {result}\")"
      ],
      "metadata": {
        "colab": {
          "base_uri": "https://localhost:8080/"
        },
        "id": "SNpyJa6-GviQ",
        "outputId": "a8718210-f178-4f54-d39a-19bf1bf96a99"
      },
      "execution_count": 18,
      "outputs": [
        {
          "output_type": "stream",
          "name": "stdout",
          "text": [
            "Original order list: [[12345, 12.5, 10], [56789, 5.0, 20], [98765, 100.0, 1], [45678, 9.99, 5], [11223, 20.0, 3]]\n",
            "Processed order list: [(12345, 125.0), (56789, 100.0), (98765, 100.0), (45678, 59.95), (11223, 70.0)]\n"
          ]
        }
      ]
    }
  ]
}